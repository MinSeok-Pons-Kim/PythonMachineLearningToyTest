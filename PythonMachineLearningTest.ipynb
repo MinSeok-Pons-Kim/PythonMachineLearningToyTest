{
 "cells": [
  {
   "cell_type": "markdown",
   "metadata": {},
   "source": [
    "http://iamtrask.github.io/2015/07/12/basic-python-network/"
   ]
  },
  {
   "cell_type": "code",
   "execution_count": 278,
   "metadata": {
    "collapsed": false
   },
   "outputs": [
    {
     "name": "stdout",
     "output_type": "stream",
     "text": [
      "Output After Training:\n",
      "[[  7.20249792e-05]\n",
      " [  4.80131948e-05]\n",
      " [  9.99959301e-01]\n",
      " [  9.99938947e-01]]\n"
     ]
    }
   ],
   "source": [
    "# Example 1 : 2 layer neural network\n",
    "\n",
    "import numpy as np\n",
    "\n",
    "# sigmoid function\n",
    "def nonlin(x, deriv=False):\n",
    "    if(deriv==True):\n",
    "        return (1/(1+np.exp(-x)))*(1-(1/(1+np.exp(-x))))\n",
    "    return 1/(1+np.exp(-x))\n",
    "\n",
    "# input dataset, 4*3\n",
    "X = np.array([ [0,0,1],\n",
    "                 [0,1,1],\n",
    "                 [1,0,1],\n",
    "                 [1,1,1]])\n",
    "\n",
    "# output dataset\n",
    "y = np.array([[0,0,1,1]]).T #transposed -> now we have 4*1, not 1*4\n",
    "\n",
    "# seed random numbers to make calculation\n",
    "# deterministic (just a good practic)\n",
    "np.random.seed(1)\n",
    "\n",
    "# initialize weights randomly with mean 0\n",
    "syn0 = 2*np.random.random((3,1)) -1\n",
    "\n",
    "for iter in range(100000):\n",
    "    \n",
    "    # forward propagation\n",
    "    l0 = X\n",
    "    l1 = nonlin(np.dot(l0,syn0))\n",
    "    \n",
    "    # how much did we miss?\n",
    "    l1_error = y - l1\n",
    "    \n",
    "    # multiply how much we missed by the\n",
    "    # slope of the sigmoid at the values in l1\n",
    "    l1_delta = l1_error * nonlin(l1, True)\n",
    "    \n",
    "    # update weights\n",
    "    syn0 += np.dot(l0.T, l1_delta)\n",
    "    \n",
    "print (\"Output After Training:\")\n",
    "print (l1)"
   ]
  },
  {
   "cell_type": "code",
   "execution_count": null,
   "metadata": {
    "collapsed": true
   },
   "outputs": [],
   "source": [
    "#Example 2 : deep learning - 3 layer neural network\n",
    "import numpy as np\n",
    "\n",
    "def nonlin(x, deriv=False):\n",
    "    if deriv:\n",
    "        return (1/(1+np.exp(-x)))*(1-(1/(1+np.exp(-x))))\n",
    "    return 1/(1+np.exp(-x))\n",
    "\n",
    "X = np.array(   [0,0,1],\n",
    "                [0,1,1],\n",
    "                [1,0,1],\n",
    "                [1,1,1])\n",
    "\n",
    "Y = np.array([[0],\n",
    "              [1],\n",
    "              [1],\n",
    "              [0]])\n",
    "\n",
    "np.random.seed(1)\n",
    "\n",
    "# randomly initialize our weights with mean 0\n",
    "# (b-a)*np.random.random((row,col)) + a\n",
    "syn0 = 2*np.random.random((3,4)) - 1\n",
    "syn1 = 2*np.random.random((4,1)) - 1 \n",
    "\n",
    "for j in xrange(60000):\n",
    "    \n",
    "    # Feed forward through layers 0, 1 and 2\n",
    "    l0 = X\n",
    "    l1 = nonlin(np.dot(l0,syn0)) # 4*3 and 3*4 -> 4*4\n",
    "    l2 = nonlin(np.dot(l1,syn1)) # 4*4 and 4*1 -> 4*1\n",
    "    \n",
    "    # Error - how much did we miss the target value?\n",
    "    l2_error = y - l2\n",
    "    \n",
    "    if (j % 10000) == 0:\n",
    "        print (\"Error:\" + str(np.mean(np.abs(l2_error))))\n",
    "    \n",
    "    # Update : in what direction is the target value?\n",
    "    # were we really sure? If so, don't change too much.\n",
    "    l2_delta = l2_error * nonlin(l2, deriv=True)\n",
    "    \n",
    "    # how much did each l1 value contribute to the l2 error?\n",
    "    l1_error = l2_delta.dot(syn1.T)\n",
    "    \n",
    "    # in what direction is the target l1? \n",
    "    l1_delta = l1_error * nonlin(l1, deriv=True)\n",
    "    \n",
    "    syn1 += np.dot(l1.T, l2_delta)\n",
    "    syn0 += np.dot(l0.T, l1_delta)"
   ]
  },
  {
   "cell_type": "code",
   "execution_count": 194,
   "metadata": {
    "collapsed": false
   },
   "outputs": [
    {
     "data": {
      "text/plain": [
       "array([[0, 0, 1, 4]])"
      ]
     },
     "execution_count": 194,
     "metadata": {},
     "output_type": "execute_result"
    }
   ],
   "source": [
    "a = np.array( [[0,0,1,2]])\n",
    "b = np.array( [[0,1,1,2]])\n",
    "np.dot(a.T, b) # 4*1 and 1*4 -> 4*4\n",
    "np.dot(a, b.T) # 1*4 and 4*1 -> 1*1\n",
    "a*b # elementwise calculation"
   ]
  },
  {
   "cell_type": "code",
   "execution_count": 178,
   "metadata": {
    "collapsed": false
   },
   "outputs": [
    {
     "data": {
      "text/plain": [
       "array([ 0.5507979])"
      ]
     },
     "execution_count": 178,
     "metadata": {},
     "output_type": "execute_result"
    }
   ],
   "source": [
    "np.random.seed(3)\n",
    "np.random.random(1)"
   ]
  },
  {
   "cell_type": "code",
   "execution_count": 199,
   "metadata": {
    "collapsed": false
   },
   "outputs": [
    {
     "data": {
      "text/plain": [
       "0.5"
      ]
     },
     "execution_count": 199,
     "metadata": {},
     "output_type": "execute_result"
    }
   ],
   "source": [
    "1/(1+np.exp(0))"
   ]
  },
  {
   "cell_type": "code",
   "execution_count": 269,
   "metadata": {
    "collapsed": false
   },
   "outputs": [
    {
     "name": "stdout",
     "output_type": "stream",
     "text": [
      "0.00664805667079\n",
      "0.0176627062133\n",
      "0.0451766597309\n",
      "0.104993585404\n",
      "0.196611933241\n",
      "0.25\n",
      "0.196611933241\n",
      "0.104993585404\n",
      "0.0451766597309\n",
      "0.0176627062133\n",
      "0.00664805667079\n",
      "\n",
      "nonlin of deriv\n",
      "\n",
      "0.00669285092428\n",
      "0.0179862099621\n",
      "0.0474258731776\n",
      "0.119202922022\n",
      "0.26894142137\n",
      "0.5\n",
      "0.73105857863\n",
      "0.880797077978\n",
      "0.952574126822\n",
      "0.982013790038\n",
      "0.993307149076\n",
      "nonlin\n"
     ]
    }
   ],
   "source": [
    "for i in range(-5, 6):\n",
    "    print(nonlin(i, deriv=True))\n",
    "    \n",
    "print('\\nnonlin of deriv\\n')\n",
    "for i in range(-5, 6):\n",
    "    print(nonlin(i))\n",
    "    \n",
    "print('nonlin')"
   ]
  },
  {
   "cell_type": "code",
   "execution_count": null,
   "metadata": {
    "collapsed": true
   },
   "outputs": [],
   "source": []
  }
 ],
 "metadata": {
  "kernelspec": {
   "display_name": "Python 3",
   "language": "python",
   "name": "python3"
  },
  "language_info": {
   "codemirror_mode": {
    "name": "ipython",
    "version": 3
   },
   "file_extension": ".py",
   "mimetype": "text/x-python",
   "name": "python",
   "nbconvert_exporter": "python",
   "pygments_lexer": "ipython3",
   "version": "3.5.0"
  }
 },
 "nbformat": 4,
 "nbformat_minor": 1
}
